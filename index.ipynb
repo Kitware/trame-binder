{
 "cells": [
  {
   "cell_type": "code",
   "execution_count": null,
   "id": "0ed0a85d-3655-43e8-88a8-a04cdd571479",
   "metadata": {},
   "outputs": [],
   "source": [
    "import ipywidgets as widgets\n",
    "\n",
    "widgets.IntSlider(\n",
    "    value=7,\n",
    "    min=0,\n",
    "    max=10,\n",
    "    step=1,\n",
    "    description='Test:',\n",
    "    disabled=False,\n",
    "    continuous_update=False,\n",
    "    orientation='horizontal',\n",
    "    readout=True,\n",
    "    readout_format='d'\n",
    ")\n",
    "# Will fail because of trame_jupyter_extension\n",
    "# but I don't know why..."
   ]
  },
  {
   "cell_type": "code",
   "execution_count": null,
   "id": "daa7919a-ec13-4cfc-a3a2-6a4a834b7888",
   "metadata": {},
   "outputs": [],
   "source": [
    "import os\n",
    "\n",
    "for k in os.environ:\n",
    "    if \"TRAME_\" in k:\n",
    "        print(f\"{k:<10}={os.environ[k]}\")\n",
    "        \n",
    "# Some vars should be displayed which highlight that the trame extension is properly working"
   ]
  },
  {
   "cell_type": "code",
   "execution_count": null,
   "id": "deb01b10-cb6e-42cf-8786-540dafae6810",
   "metadata": {
    "tags": []
   },
   "outputs": [],
   "source": [
    "# Dummy trame example to validate the process\n",
    "from trame.app.demo import Cone\n",
    "c = Cone()\n",
    "await c.ui.ready\n",
    "\n",
    "# Currently fail as we try to use ipywidget\n",
    "# => trame_jupyter_extension is messing something up for ipywidget but don't know what\n",
    "c.ui"
   ]
  },
  {
   "cell_type": "code",
   "execution_count": null,
   "id": "daac973a-9f7d-4677-ad32-95e85fe3fea9",
   "metadata": {},
   "outputs": [],
   "source": [
    "# Disable ipywidgets within trame\n",
    "os.environ[\"TRAME_IPYWIDGETS_DISABLE\"] = \"1\"\n",
    "\n",
    "# Should work now\n",
    "c.ui"
   ]
  }
 ],
 "metadata": {
  "kernelspec": {
   "display_name": "Python 3 (ipykernel)",
   "language": "python",
   "name": "python3"
  },
  "language_info": {
   "codemirror_mode": {
    "name": "ipython",
    "version": 3
   },
   "file_extension": ".py",
   "mimetype": "text/x-python",
   "name": "python",
   "nbconvert_exporter": "python",
   "pygments_lexer": "ipython3",
   "version": "3.9.18"
  }
 },
 "nbformat": 4,
 "nbformat_minor": 5
}
