{
 "cells": [
  {
   "cell_type": "markdown",
   "id": "2f24d735-8ab0-4945-9b84-22e0b0505525",
   "metadata": {},
   "source": [
    "# Binder Trame App Demo with `trame-jupyter-extension` and ipywidgets"
   ]
  },
  {
   "cell_type": "code",
   "execution_count": null,
   "id": "3f53a9c2-2ef1-4cee-9ba0-627ba1601849",
   "metadata": {},
   "outputs": [],
   "source": [
    "import trame.app.demo\n",
    "app = trame.app.demo.Cone()\n",
    "await app.ui.ready\n",
    "app.ui"
   ]
  },
  {
   "cell_type": "markdown",
   "id": "0ad41c13-3520-410a-b1e9-362f16b711da",
   "metadata": {},
   "source": [
    "### Programmatically change the app properties"
   ]
  },
  {
   "cell_type": "code",
   "execution_count": null,
   "id": "f3804924-a316-4f6a-bc4c-b925881bd72c",
   "metadata": {},
   "outputs": [],
   "source": [
    "app.resolution = 4"
   ]
  },
  {
   "cell_type": "markdown",
   "id": "354f9bf4-7528-44b9-a95f-cb85fc2163e1",
   "metadata": {},
   "source": [
    "### Interactivelly change the app properties with `ipywidgets`"
   ]
  },
  {
   "cell_type": "code",
   "execution_count": null,
   "id": "6e678bf4-0b47-48e3-9317-3216a63feb1b",
   "metadata": {},
   "outputs": [],
   "source": [
    "import ipywidgets\n",
    "\n",
    "slider = ipywidgets.IntSlider(value=app.resolution, min=3, max=60, step=1, description='Cone Resolution:', readout=True, readout_format='d')\n",
    "\n",
    "def on_slider_change(ev):\n",
    "    app.resolution=ev['new']\n",
    "\n",
    "slider.observe(on_slider_change, 'value')\n",
    "\n",
    "slider"
   ]
  }
 ],
 "metadata": {
  "kernelspec": {
   "display_name": "Python 3 (ipykernel)",
   "language": "python",
   "name": "python3"
  },
  "language_info": {
   "codemirror_mode": {
    "name": "ipython",
    "version": 3
   },
   "file_extension": ".py",
   "mimetype": "text/x-python",
   "name": "python",
   "nbconvert_exporter": "python",
   "pygments_lexer": "ipython3",
   "version": "3.10.12"
  }
 },
 "nbformat": 4,
 "nbformat_minor": 5
}
