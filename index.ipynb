{
 "cells": [
  {
   "cell_type": "code",
   "execution_count": 1,
   "id": "295d1867-355d-4a3d-b080-1022b4a778b0",
   "metadata": {},
   "outputs": [],
   "source": [
    "from trame.app.demo import Cone"
   ]
  },
  {
   "cell_type": "code",
   "execution_count": 2,
   "id": "753ffad6-2c11-495f-807c-67a2e3338815",
   "metadata": {},
   "outputs": [
    {
     "data": {
      "text/html": [
       "<iframe id=\"a_trame__template_main\" src=\"http://localhost:51521/index.html?ui=main&reconnect=auto\" style=\"border: none; width: 100%; height: 600px;\"></iframe>"
      ]
     },
     "metadata": {},
     "output_type": "display_data"
    }
   ],
   "source": [
    "c1 = Cone('a')\n",
    "await c1.ui.ready\n",
    "c1.ui"
   ]
  },
  {
   "cell_type": "code",
   "execution_count": 3,
   "id": "f7c38cc4-b9cd-4276-b8c6-ce2d073f87f6",
   "metadata": {},
   "outputs": [
    {
     "data": {
      "text/html": [
       "<iframe id=\"b_trame__template_main\" src=\"http://localhost:51539/index.html?ui=main&reconnect=auto\" style=\"border: none; width: 100%; height: 600px;\"></iframe>"
      ]
     },
     "metadata": {},
     "output_type": "display_data"
    }
   ],
   "source": [
    "c2 = Cone('b')\n",
    "await c2.ui.ready\n",
    "c2.ui"
   ]
  },
  {
   "cell_type": "code",
   "execution_count": null,
   "id": "daa7919a-ec13-4cfc-a3a2-6a4a834b7888",
   "metadata": {},
   "outputs": [],
   "source": []
  }
 ],
 "metadata": {
  "kernelspec": {
   "display_name": "Python 3 (ipykernel)",
   "language": "python",
   "name": "python3"
  },
  "language_info": {
   "codemirror_mode": {
    "name": "ipython",
    "version": 3
   },
   "file_extension": ".py",
   "mimetype": "text/x-python",
   "name": "python",
   "nbconvert_exporter": "python",
   "pygments_lexer": "ipython3",
   "version": "3.10.12"
  }
 },
 "nbformat": 4,
 "nbformat_minor": 5
}
